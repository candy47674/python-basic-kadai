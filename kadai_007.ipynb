{
  "nbformat": 4,
  "nbformat_minor": 0,
  "metadata": {
    "colab": {
      "provenance": [],
      "authorship_tag": "ABX9TyM7s0J4BgonnOJmQxSClsZ4",
      "include_colab_link": true
    },
    "kernelspec": {
      "name": "python3",
      "display_name": "Python 3"
    },
    "language_info": {
      "name": "python"
    }
  },
  "cells": [
    {
      "cell_type": "markdown",
      "metadata": {
        "id": "view-in-github",
        "colab_type": "text"
      },
      "source": [
        "<a href=\"https://colab.research.google.com/github/candy47674/python-basic-kadai/blob/main/kadai_007.ipynb\" target=\"_parent\"><img src=\"https://colab.research.google.com/assets/colab-badge.svg\" alt=\"Open In Colab\"/></a>"
      ]
    },
    {
      "cell_type": "code",
      "execution_count": 11,
      "metadata": {
        "colab": {
          "base_uri": "https://localhost:8080/"
        },
        "id": "mqM9bAvFBf_G",
        "outputId": "eef2d181-6db5-4776-f668-f7a0f719bf3e"
      },
      "outputs": [
        {
          "output_type": "stream",
          "name": "stdout",
          "text": [
            "一郎\n",
            "24\n",
            "一郎さんは大人です。\n",
            "二郎さんは未成年です。\n",
            "三郎さんは未成年です。\n",
            "零さんはシルバーです。\n"
          ]
        }
      ],
      "source": [
        "class Human: #クラス名必ず一文字目は大文字\n",
        "    #オブジェクトのための初期設計図\n",
        "  def __init__(self,name,age):\n",
        "    self.name = name\n",
        "    self.age = age\n",
        "\n",
        "  #大人かどうかをチェックするメソッド(種類分け)\n",
        "  def check_adult(self): #selfの理由は初期設定の名前を入れること\n",
        "    if self.age <= 20:\n",
        "      print(f\"{self.name}さんは未成年です。\")\n",
        "    elif self.age >= 60:\n",
        "      print(f\"{self.name}さんはシルバーです。\")\n",
        "    else:\n",
        "      print(f\"{self.name}さんは大人です。\")\n",
        "\n",
        " #インスタンス\n",
        "le_a = Human(\"一郎\",24)\n",
        "le_b = Human(\"二郎\",20)\n",
        "le_c = Human(\"三郎\",16)\n",
        "le_d = Human(\"零\",60)\n",
        "\n",
        "# インスタンスをリストに追加\n",
        "humans = [le_a, le_b, le_c, le_d]\n",
        "\n",
        "print(le_a.name) #オブジェクトの名前__init__(self,x,y,z,.....) selfが\n",
        "                    #インスタンスのリスト名が入る\n",
        "print(le_a.age)\n",
        "\n",
        "# リストの要素数分だけcheck_adultメソッドを呼び出す\n",
        "for human in humans:\n",
        "    human.check_adult()\n",
        "\n",
        "\n"
      ]
    }
  ]
}