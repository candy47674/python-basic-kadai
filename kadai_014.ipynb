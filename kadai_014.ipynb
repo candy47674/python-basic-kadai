{
  "nbformat": 4,
  "nbformat_minor": 0,
  "metadata": {
    "colab": {
      "provenance": [],
      "authorship_tag": "ABX9TyMFIB9vX+I+ehS6NU+OTYwb",
      "include_colab_link": true
    },
    "kernelspec": {
      "name": "python3",
      "display_name": "Python 3"
    },
    "language_info": {
      "name": "python"
    }
  },
  "cells": [
    {
      "cell_type": "markdown",
      "metadata": {
        "id": "view-in-github",
        "colab_type": "text"
      },
      "source": [
        "<a href=\"https://colab.research.google.com/github/candy47674/python-basic-kadai/blob/main/kadai_014.ipynb\" target=\"_parent\"><img src=\"https://colab.research.google.com/assets/colab-badge.svg\" alt=\"Open In Colab\"/></a>"
      ]
    },
    {
      "cell_type": "code",
      "source": [
        "#  グローバル範囲\n",
        "price1 = 100\n",
        "price2 = 200\n",
        "\n",
        "#　ローカル範囲\n",
        "def total(price1, price2) :\n",
        "\n",
        "    tax = 1.1\n",
        "    total = (price1 + price2) * tax\n",
        "    return total\n",
        "#　ローカルでの答え\n",
        "print (total(100, 200))\n"
      ],
      "metadata": {
        "colab": {
          "base_uri": "https://localhost:8080/"
        },
        "id": "iNaYKxIrlEx8",
        "outputId": "bde382a5-b1f8-4ba8-984e-1d4d7d6c4f64"
      },
      "execution_count": null,
      "outputs": [
        {
          "output_type": "stream",
          "name": "stdout",
          "text": [
            "330.0\n"
          ]
        }
      ]
    }
  ]
}