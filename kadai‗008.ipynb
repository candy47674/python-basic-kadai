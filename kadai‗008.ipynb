{
  "nbformat": 4,
  "nbformat_minor": 0,
  "metadata": {
    "colab": {
      "provenance": [],
      "authorship_tag": "ABX9TyPAFTcAciMZ6TzjPuwEpqi6",
      "include_colab_link": true
    },
    "kernelspec": {
      "name": "python3",
      "display_name": "Python 3"
    },
    "language_info": {
      "name": "python"
    }
  },
  "cells": [
    {
      "cell_type": "markdown",
      "metadata": {
        "id": "view-in-github",
        "colab_type": "text"
      },
      "source": [
        "<a href=\"https://colab.research.google.com/github/candy47674/python-basic-kadai/blob/main/kadai%E2%80%97008.ipynb\" target=\"_parent\"><img src=\"https://colab.research.google.com/assets/colab-badge.svg\" alt=\"Open In Colab\"/></a>"
      ]
    },
    {
      "cell_type": "code",
      "execution_count": 2,
      "metadata": {
        "colab": {
          "base_uri": "https://localhost:8080/"
        },
        "id": "TKO5Jw3wHGTN",
        "outputId": "7e6aaf3a-ed13-4452-d866-760599558fef"
      },
      "outputs": [
        {
          "output_type": "stream",
          "name": "stdout",
          "text": [
            "2\n",
            "はずれです\n"
          ]
        }
      ],
      "source": [
        "#ランダムな整数を利用するために、randomモジュールをインポート\n",
        "import random\n",
        "\n",
        "# 変数numに0～4までのランダムな整数を代入する\n",
        "var = random.randint(0, 4)\n",
        "\n",
        "# 変数numの値を出力\n",
        "print(var)\n",
        "\n",
        "# 変数numの値が4なら「大当たりです」、それ以外なら「はずれです」と出力する\n",
        "if var == 4:\n",
        "    print(\"大当たりです\")\n",
        "elif var == 3:\n",
        "    print(\"当たりです\")\n",
        "else:\n",
        "    print(\"はずれです\")\n"
      ]
    },
    {
      "cell_type": "code",
      "source": [],
      "metadata": {
        "id": "L0LYsRu6I9Np"
      },
      "execution_count": null,
      "outputs": []
    }
  ]
}