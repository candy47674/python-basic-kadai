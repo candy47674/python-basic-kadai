{
  "nbformat": 4,
  "nbformat_minor": 0,
  "metadata": {
    "colab": {
      "provenance": [],
      "authorship_tag": "ABX9TyPWVI6cITW321WhHEKlUI6Q",
      "include_colab_link": true
    },
    "kernelspec": {
      "name": "python3",
      "display_name": "Python 3"
    },
    "language_info": {
      "name": "python"
    }
  },
  "cells": [
    {
      "cell_type": "markdown",
      "metadata": {
        "id": "view-in-github",
        "colab_type": "text"
      },
      "source": [
        "<a href=\"https://colab.research.google.com/github/candy47674/python-basic-kadai/blob/main/%E8%AA%B2%E9%A1%8C%EF%BC%BF015.ipynb\" target=\"_parent\"><img src=\"https://colab.research.google.com/assets/colab-badge.svg\" alt=\"Open In Colab\"/></a>"
      ]
    },
    {
      "cell_type": "code",
      "execution_count": 9,
      "metadata": {
        "colab": {
          "base_uri": "https://localhost:8080/"
        },
        "id": "G14dkID207-n",
        "outputId": "081ed852-9f88-41f7-8e3b-72ab181e98eb"
      },
      "outputs": [
        {
          "output_type": "stream",
          "name": "stdout",
          "text": [
            "はじめ 20\n"
          ]
        }
      ],
      "source": [
        "#　Humanクラスを定義\n",
        "class Human:\n",
        "    def __init__(self, name, age):\n",
        "        self.name = name\n",
        "        self.age = age\n",
        "#　メソッド(printinfo)を定義する\n",
        "    def printinfo(self):\n",
        "        print(self.name, self.age)\n",
        "#　インスタンス化\n",
        "pr = Human(\"はじめ\", 20)\n",
        "pa = Human(\"はなこ\", 25)\n",
        "\n",
        "#   出力\n",
        "pr.printinfo()\n",
        "\n"
      ]
    },
    {
      "cell_type": "code",
      "source": [],
      "metadata": {
        "id": "IJ1tlcLV7fvT"
      },
      "execution_count": null,
      "outputs": []
    }
  ]
}